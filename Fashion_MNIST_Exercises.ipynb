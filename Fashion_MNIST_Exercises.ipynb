{
  "nbformat": 4,
  "nbformat_minor": 0,
  "metadata": {
    "colab": {
      "name": "Fashion MNIST Exercises.ipynb",
      "provenance": [],
      "collapsed_sections": []
    },
    "kernelspec": {
      "name": "python3",
      "display_name": "Python 3"
    }
  },
  "cells": [
    {
      "cell_type": "markdown",
      "metadata": {
        "id": "McdOeDqF4Rr0",
        "colab_type": "text"
      },
      "source": [
        "# Fashion MNIST Demo Exercises\n",
        "## Training a Neural Network to Classify Images of Clothing Exercises\n",
        "\n",
        "### Exercises\n",
        "1. Play around the epochs # and see how many epochs get you the best training time and high test accuracy.\n",
        "2. How can you improve the model's train and test accuracy and reduce loss?\n",
        "3. View this resource by Google: https://developers.google.com/machine-learning/crash-course/reducing-loss/video-lecture. After learning, try and play around with loss in ```model.compile```.\n",
        "4. Try and re-use this code for another task, but with the MNIST dataset."
      ]
    }
  ]
}