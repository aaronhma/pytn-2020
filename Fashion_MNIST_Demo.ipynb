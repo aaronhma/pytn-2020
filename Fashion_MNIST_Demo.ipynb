{
  "nbformat": 4,
  "nbformat_minor": 0,
  "metadata": {
    "colab": {
      "name": "Fashion MNIST Demo.ipynb",
      "provenance": [],
      "collapsed_sections": []
    },
    "kernelspec": {
      "name": "python3",
      "display_name": "Python 3"
    }
  },
  "cells": [
    {
      "cell_type": "markdown",
      "metadata": {
        "id": "8Kws3EV0uiw-",
        "colab_type": "text"
      },
      "source": [
        "# Project 1: Fashion MNIST Demo\n",
        "## Training a Neural Network to Classify Images of Clothing"
      ]
    },
    {
      "cell_type": "markdown",
      "metadata": {
        "id": "4gazQJclyMRV",
        "colab_type": "text"
      },
      "source": [
        "### 1. Import Packages & Load Data"
      ]
    },
    {
      "cell_type": "code",
      "metadata": {
        "id": "_3ditccHt-rm",
        "colab_type": "code",
        "outputId": "82993375-ff9c-46a2-b2b7-59fe8330c2fc",
        "colab": {
          "base_uri": "https://localhost:8080/",
          "height": 34
        }
      },
      "source": [
        "%tensorflow_version 2.x"
      ],
      "execution_count": 0,
      "outputs": [
        {
          "output_type": "stream",
          "text": [
            "TensorFlow 2.x selected.\n"
          ],
          "name": "stdout"
        }
      ]
    },
    {
      "cell_type": "code",
      "metadata": {
        "id": "a5A1AdfDuiEK",
        "colab_type": "code",
        "outputId": "2ae6d107-7471-4742-f984-6593a8ca58f4",
        "colab": {
          "base_uri": "https://localhost:8080/",
          "height": 34
        }
      },
      "source": [
        "from __future__ import absolute_import, division, print_function, unicode_literals\n",
        "import tensorflow as tf\n",
        "from tensorflow import keras\n",
        "import numpy as np\n",
        "import matplotlib.pyplot as plt\n",
        "\n",
        "print(tf.__version__)"
      ],
      "execution_count": 0,
      "outputs": [
        {
          "output_type": "stream",
          "text": [
            "2.1.0\n"
          ],
          "name": "stdout"
        }
      ]
    },
    {
      "cell_type": "code",
      "metadata": {
        "id": "ROTrGQrIu-UB",
        "colab_type": "code",
        "outputId": "977c0698-08e6-4bf7-b50b-886827c2d6a0",
        "colab": {
          "base_uri": "https://localhost:8080/",
          "height": 153
        }
      },
      "source": [
        "fashion_mnist = keras.datasets.fashion_mnist\n",
        "(train_images, train_labels), (test_images, test_labels) = fashion_mnist.load_data()\n",
        "# split data\n",
        "# train data - teach model\n",
        "# test data  - evaluate model"
      ],
      "execution_count": 0,
      "outputs": [
        {
          "output_type": "stream",
          "text": [
            "Downloading data from https://storage.googleapis.com/tensorflow/tf-keras-datasets/train-labels-idx1-ubyte.gz\n",
            "32768/29515 [=================================] - 0s 0us/step\n",
            "Downloading data from https://storage.googleapis.com/tensorflow/tf-keras-datasets/train-images-idx3-ubyte.gz\n",
            "26427392/26421880 [==============================] - 0s 0us/step\n",
            "Downloading data from https://storage.googleapis.com/tensorflow/tf-keras-datasets/t10k-labels-idx1-ubyte.gz\n",
            "8192/5148 [===============================================] - 0s 0us/step\n",
            "Downloading data from https://storage.googleapis.com/tensorflow/tf-keras-datasets/t10k-images-idx3-ubyte.gz\n",
            "4423680/4422102 [==============================] - 0s 0us/step\n"
          ],
          "name": "stdout"
        }
      ]
    },
    {
      "cell_type": "markdown",
      "metadata": {
        "id": "yUFqQgy4yStq",
        "colab_type": "text"
      },
      "source": [
        "### 2. Explore Data"
      ]
    },
    {
      "cell_type": "markdown",
      "metadata": {
        "id": "YFEPaWFrzzjp",
        "colab_type": "text"
      },
      "source": [
        "### ```class_names``` explanation\n",
        "```python\n",
        "class_names = ['T-shirt/top', 'Trouser', 'Pullover', 'Dress', 'Coat',\n",
        "               'Sandal', 'Shirt', 'Sneaker', 'Bag', 'Ankle boot'] # Set our labels\n",
        "```\n",
        "\n",
        "```python\n",
        "class_index = [0, 1 , 2, 3 , 4, 5, 6, 7, 8, 9]\n",
        "```"
      ]
    },
    {
      "cell_type": "code",
      "metadata": {
        "id": "DGVmx5ScvCZp",
        "colab_type": "code",
        "colab": {}
      },
      "source": [
        "class_names = ['T-shirt/top', 'Trouser', 'Pullover', 'Dress', 'Coat',\n",
        "               'Sandal', 'Shirt', 'Sneaker', 'Bag', 'Ankle boot'] # Set our labels"
      ],
      "execution_count": 0,
      "outputs": []
    },
    {
      "cell_type": "code",
      "metadata": {
        "id": "9TM5wWLMvC6L",
        "colab_type": "code",
        "outputId": "6810930a-7e92-4600-f1ea-cb9518ec759b",
        "colab": {
          "base_uri": "https://localhost:8080/",
          "height": 34
        }
      },
      "source": [
        "train_images.shape # 60000 images, 28*28 (784) pixels"
      ],
      "execution_count": 0,
      "outputs": [
        {
          "output_type": "execute_result",
          "data": {
            "text/plain": [
              "(60000, 28, 28)"
            ]
          },
          "metadata": {
            "tags": []
          },
          "execution_count": 5
        }
      ]
    },
    {
      "cell_type": "code",
      "metadata": {
        "id": "IvjKTWYYvLGh",
        "colab_type": "code",
        "outputId": "6f217f58-cb6c-4f37-a0ba-ace6ed99d1e8",
        "colab": {
          "base_uri": "https://localhost:8080/",
          "height": 34
        }
      },
      "source": [
        "test_images.shape # 10000 images, 28*28 (784) pixels"
      ],
      "execution_count": 0,
      "outputs": [
        {
          "output_type": "execute_result",
          "data": {
            "text/plain": [
              "(10000, 28, 28)"
            ]
          },
          "metadata": {
            "tags": []
          },
          "execution_count": 6
        }
      ]
    },
    {
      "cell_type": "code",
      "metadata": {
        "id": "tN2WmgExvQzo",
        "colab_type": "code",
        "outputId": "36e35141-48bd-42bb-be86-18ca2a981027",
        "colab": {
          "base_uri": "https://localhost:8080/",
          "height": 281
        }
      },
      "source": [
        "plt.figure()\n",
        "plt.imshow(train_images[0])\n",
        "plt.colorbar()\n",
        "plt.grid(False)\n",
        "plt.title('Ankle Boot')\n",
        "plt.show()"
      ],
      "execution_count": 0,
      "outputs": [
        {
          "output_type": "display_data",
          "data": {
            "image/png": "[encoded data removed]",
            "text/plain": [
              "<Figure size 432x288 with 2 Axes>"
            ]
          },
          "metadata": {
            "tags": []
          }
        }
      ]
    },
    {
      "cell_type": "markdown",
      "metadata": {
        "id": "Lqo7sy670o0n",
        "colab_type": "text"
      },
      "source": [
        "We scale the values to a range of 0 - 1. So we divide the values by 255.\n",
        "* training set + testing set to be preprocesed in the same way"
      ]
    },
    {
      "cell_type": "code",
      "metadata": {
        "id": "GhmTcQYrvTFt",
        "colab_type": "code",
        "colab": {}
      },
      "source": [
        "train_images = train_images / 255.0\n",
        "\n",
        "test_images = test_images / 255.0\n",
        "# each element for each image represents the intensity of the corresponding pixel\n",
        "# with a value between [0, 255].\n",
        "# We rescale this image by dividing each pixel’s value by 255\n",
        "# scales features to [0, 1]"
      ],
      "execution_count": 0,
      "outputs": []
    },
    {
      "cell_type": "code",
      "metadata": {
        "id": "lpMzuWIPvUt8",
        "colab_type": "code",
        "outputId": "2b5f1819-1ad8-440a-fc23-0c1429c83c92",
        "colab": {
          "base_uri": "https://localhost:8080/",
          "height": 589
        }
      },
      "source": [
        "plt.figure(figsize=(10,10)) # Data verification\n",
        "for i in range(25):\n",
        "    plt.subplot(5,5,i+1)\n",
        "    plt.xticks([])\n",
        "    plt.yticks([])\n",
        "    plt.grid(False)\n",
        "    plt.imshow(train_images[i], cmap=plt.cm.binary)\n",
        "    plt.xlabel(class_names[train_labels[i]])\n",
        "plt.show()"
      ],
      "execution_count": 0,
      "outputs": [
        {
          "output_type": "display_data",
          "data": {
            "image/png": "[encoded data removed]",
            "text/plain": [
              "<Figure size 720x720 with 25 Axes>"
            ]
          },
          "metadata": {
            "tags": []
          }
        }
      ]
    },
    {
      "cell_type": "markdown",
      "metadata": {
        "id": "RqxQod3GyXb0",
        "colab_type": "text"
      },
      "source": [
        "### 3. Choose an Algorithm\n",
        "\n",
        "ADAM: find individual learning rates for each parameter\n",
        "\n",
        "SPARSE CATEGORICAL CROSSENTROPY: measure the dissimilarity between predicted class probability & observed class labels\n",
        "\n",
        "RELU: introduces nonlinearity to our model "
      ]
    },
    {
      "cell_type": "code",
      "metadata": {
        "id": "Wvgyi9EfvWIT",
        "colab_type": "code",
        "colab": {}
      },
      "source": [
        "model = keras.Sequential([\n",
        "    keras.layers.Flatten(input_shape=(28, 28)), # 2d -> 1d array\n",
        "    keras.layers.Dense(128, activation='relu'), # 128 neurons\n",
        "    keras.layers.Dense(10) # output layer, 10 neurons\n",
        "])\n",
        "\n",
        "model.compile(optimizer='adam', # how our model is updated\n",
        "              loss=tf.keras.losses.SparseCategoricalCrossentropy(from_logits=True), # calc error\n",
        "              metrics=['accuracy']) # calc accuracy"
      ],
      "execution_count": 0,
      "outputs": []
    },
    {
      "cell_type": "markdown",
      "metadata": {
        "id": "YhT3s1xQyaeS",
        "colab_type": "text"
      },
      "source": [
        "### 4. Train Your Model\n",
        "\n",
        "$ model.fit(x, y, epochs=EPOCHS, verbose=VERBOSE, callbacks=CALLBACKS) $"
      ]
    },
    {
      "cell_type": "code",
      "metadata": {
        "id": "6SBYQ6lSvZzr",
        "colab_type": "code",
        "outputId": "287c3515-3543-43e6-e9ce-bdaff5de24a3",
        "colab": {
          "base_uri": "https://localhost:8080/",
          "height": 1000
        }
      },
      "source": [
        "model.fit(train_images, train_labels, epochs=100)"
      ],
      "execution_count": 0,
      "outputs": [
        {
          "output_type": "stream",
          "text": [
            "Train on 60000 samples\n",
            "Epoch 1/100\n",
            "60000/60000 [==============================] - 6s 95us/sample - loss: 0.4938 - accuracy: 0.8260\n",
            "Epoch 2/100\n",
            "60000/60000 [==============================] - 5s 82us/sample - loss: 0.3753 - accuracy: 0.8644\n",
            "Epoch 3/100\n",
            "60000/60000 [==============================] - 5s 82us/sample - loss: 0.3357 - accuracy: 0.8769\n",
            "Epoch 4/100\n",
            "60000/60000 [==============================] - 5s 82us/sample - loss: 0.3144 - accuracy: 0.8843\n",
            "Epoch 5/100\n",
            "60000/60000 [==============================] - 5s 83us/sample - loss: 0.2950 - accuracy: 0.8913\n",
            "Epoch 6/100\n",
            "60000/60000 [==============================] - 5s 82us/sample - loss: 0.2807 - accuracy: 0.8959\n",
            "Epoch 7/100\n",
            "60000/60000 [==============================] - 5s 80us/sample - loss: 0.2679 - accuracy: 0.8996\n",
            "Epoch 8/100\n",
            "60000/60000 [==============================] - 5s 82us/sample - loss: 0.2567 - accuracy: 0.9043\n",
            "Epoch 9/100\n",
            "60000/60000 [==============================] - 5s 83us/sample - loss: 0.2477 - accuracy: 0.9078\n",
            "Epoch 10/100\n",
            "60000/60000 [==============================] - 5s 79us/sample - loss: 0.2411 - accuracy: 0.9105\n",
            "Epoch 11/100\n",
            "60000/60000 [==============================] - 5s 80us/sample - loss: 0.2322 - accuracy: 0.9139\n",
            "Epoch 12/100\n",
            "60000/60000 [==============================] - 5s 81us/sample - loss: 0.2232 - accuracy: 0.9159\n",
            "Epoch 13/100\n",
            "60000/60000 [==============================] - 5s 80us/sample - loss: 0.2165 - accuracy: 0.9186\n",
            "Epoch 14/100\n",
            "60000/60000 [==============================] - 5s 82us/sample - loss: 0.2109 - accuracy: 0.9211\n",
            "Epoch 15/100\n",
            "60000/60000 [==============================] - 5s 83us/sample - loss: 0.2060 - accuracy: 0.9219\n",
            "Epoch 16/100\n",
            "60000/60000 [==============================] - 5s 81us/sample - loss: 0.1987 - accuracy: 0.9244\n",
            "Epoch 17/100\n",
            "60000/60000 [==============================] - 5s 82us/sample - loss: 0.1932 - accuracy: 0.9271\n",
            "Epoch 18/100\n",
            "60000/60000 [==============================] - 5s 82us/sample - loss: 0.1882 - accuracy: 0.9294\n",
            "Epoch 19/100\n",
            "60000/60000 [==============================] - 5s 80us/sample - loss: 0.1839 - accuracy: 0.9306\n",
            "Epoch 20/100\n",
            "60000/60000 [==============================] - 5s 81us/sample - loss: 0.1799 - accuracy: 0.9316\n",
            "Epoch 21/100\n",
            "60000/60000 [==============================] - 5s 81us/sample - loss: 0.1747 - accuracy: 0.9341\n",
            "Epoch 22/100\n",
            "60000/60000 [==============================] - 5s 80us/sample - loss: 0.1685 - accuracy: 0.9365\n",
            "Epoch 23/100\n",
            "60000/60000 [==============================] - 5s 82us/sample - loss: 0.1672 - accuracy: 0.9365\n",
            "Epoch 24/100\n",
            "60000/60000 [==============================] - 5s 81us/sample - loss: 0.1633 - accuracy: 0.9383\n",
            "Epoch 25/100\n",
            "60000/60000 [==============================] - 5s 82us/sample - loss: 0.1588 - accuracy: 0.9399\n",
            "Epoch 26/100\n",
            "60000/60000 [==============================] - 5s 80us/sample - loss: 0.1563 - accuracy: 0.9413\n",
            "Epoch 27/100\n",
            "60000/60000 [==============================] - 5s 81us/sample - loss: 0.1498 - accuracy: 0.9438\n",
            "Epoch 28/100\n",
            "60000/60000 [==============================] - 5s 80us/sample - loss: 0.1497 - accuracy: 0.9440\n",
            "Epoch 29/100\n",
            "60000/60000 [==============================] - 5s 80us/sample - loss: 0.1461 - accuracy: 0.9460\n",
            "Epoch 30/100\n",
            "60000/60000 [==============================] - 5s 81us/sample - loss: 0.1412 - accuracy: 0.9471\n",
            "Epoch 31/100\n",
            "60000/60000 [==============================] - 5s 82us/sample - loss: 0.1399 - accuracy: 0.9474\n",
            "Epoch 32/100\n",
            "60000/60000 [==============================] - 5s 81us/sample - loss: 0.1359 - accuracy: 0.9482\n",
            "Epoch 33/100\n",
            "60000/60000 [==============================] - 5s 80us/sample - loss: 0.1328 - accuracy: 0.9502\n",
            "Epoch 34/100\n",
            "60000/60000 [==============================] - 5s 80us/sample - loss: 0.1324 - accuracy: 0.9505\n",
            "Epoch 35/100\n",
            "60000/60000 [==============================] - 5s 78us/sample - loss: 0.1307 - accuracy: 0.9508\n",
            "Epoch 36/100\n",
            "60000/60000 [==============================] - 5s 82us/sample - loss: 0.1270 - accuracy: 0.9525\n",
            "Epoch 37/100\n",
            "60000/60000 [==============================] - 5s 89us/sample - loss: 0.1240 - accuracy: 0.9534\n",
            "Epoch 38/100\n",
            "60000/60000 [==============================] - 6s 106us/sample - loss: 0.1243 - accuracy: 0.9535\n",
            "Epoch 39/100\n",
            "60000/60000 [==============================] - 5s 80us/sample - loss: 0.1193 - accuracy: 0.9551\n",
            "Epoch 40/100\n",
            "60000/60000 [==============================] - 5s 80us/sample - loss: 0.1175 - accuracy: 0.9563\n",
            "Epoch 41/100\n",
            "60000/60000 [==============================] - 5s 81us/sample - loss: 0.1178 - accuracy: 0.9562\n",
            "Epoch 42/100\n",
            "60000/60000 [==============================] - 5s 78us/sample - loss: 0.1116 - accuracy: 0.9579\n",
            "Epoch 43/100\n",
            "60000/60000 [==============================] - 5s 79us/sample - loss: 0.1156 - accuracy: 0.9564\n",
            "Epoch 44/100\n",
            "60000/60000 [==============================] - 5s 79us/sample - loss: 0.1104 - accuracy: 0.9588\n",
            "Epoch 45/100\n",
            "60000/60000 [==============================] - 5s 81us/sample - loss: 0.1095 - accuracy: 0.9593\n",
            "Epoch 46/100\n",
            "60000/60000 [==============================] - 5s 80us/sample - loss: 0.1046 - accuracy: 0.9610\n",
            "Epoch 47/100\n",
            "60000/60000 [==============================] - 5s 80us/sample - loss: 0.1053 - accuracy: 0.9606\n",
            "Epoch 48/100\n",
            "60000/60000 [==============================] - 5s 81us/sample - loss: 0.1025 - accuracy: 0.9607\n",
            "Epoch 49/100\n",
            "60000/60000 [==============================] - 5s 80us/sample - loss: 0.1030 - accuracy: 0.9615\n",
            "Epoch 50/100\n",
            "60000/60000 [==============================] - 5s 78us/sample - loss: 0.1003 - accuracy: 0.9620\n",
            "Epoch 51/100\n",
            "60000/60000 [==============================] - 5s 80us/sample - loss: 0.0991 - accuracy: 0.9620\n",
            "Epoch 52/100\n",
            "60000/60000 [==============================] - 5s 81us/sample - loss: 0.0960 - accuracy: 0.9645\n",
            "Epoch 53/100\n",
            "60000/60000 [==============================] - 5s 80us/sample - loss: 0.0951 - accuracy: 0.9647\n",
            "Epoch 54/100\n",
            "60000/60000 [==============================] - 5s 79us/sample - loss: 0.0951 - accuracy: 0.9638\n",
            "Epoch 55/100\n",
            "60000/60000 [==============================] - 5s 80us/sample - loss: 0.0927 - accuracy: 0.9655\n",
            "Epoch 56/100\n",
            "60000/60000 [==============================] - 5s 80us/sample - loss: 0.0914 - accuracy: 0.9659\n",
            "Epoch 57/100\n",
            "60000/60000 [==============================] - 5s 80us/sample - loss: 0.0903 - accuracy: 0.9659\n",
            "Epoch 58/100\n",
            "60000/60000 [==============================] - 5s 82us/sample - loss: 0.0884 - accuracy: 0.9666\n",
            "Epoch 59/100\n",
            "60000/60000 [==============================] - 5s 79us/sample - loss: 0.0888 - accuracy: 0.9672\n",
            "Epoch 60/100\n",
            "60000/60000 [==============================] - 5s 78us/sample - loss: 0.0867 - accuracy: 0.9672\n",
            "Epoch 61/100\n",
            "60000/60000 [==============================] - 5s 77us/sample - loss: 0.0846 - accuracy: 0.9685\n",
            "Epoch 62/100\n",
            "60000/60000 [==============================] - 5s 81us/sample - loss: 0.0840 - accuracy: 0.9680\n",
            "Epoch 63/100\n",
            "60000/60000 [==============================] - 5s 80us/sample - loss: 0.0838 - accuracy: 0.9685\n",
            "Epoch 64/100\n",
            "60000/60000 [==============================] - 5s 81us/sample - loss: 0.0818 - accuracy: 0.9693\n",
            "Epoch 65/100\n",
            "60000/60000 [==============================] - 5s 80us/sample - loss: 0.0807 - accuracy: 0.9705\n",
            "Epoch 66/100\n",
            "60000/60000 [==============================] - 5s 81us/sample - loss: 0.0807 - accuracy: 0.9705\n",
            "Epoch 67/100\n",
            "60000/60000 [==============================] - 5s 79us/sample - loss: 0.0782 - accuracy: 0.9708\n",
            "Epoch 68/100\n",
            "60000/60000 [==============================] - 5s 81us/sample - loss: 0.0798 - accuracy: 0.9707\n",
            "Epoch 69/100\n",
            "60000/60000 [==============================] - 5s 79us/sample - loss: 0.0781 - accuracy: 0.9709\n",
            "Epoch 70/100\n",
            "60000/60000 [==============================] - 5s 81us/sample - loss: 0.0750 - accuracy: 0.9716\n",
            "Epoch 71/100\n",
            "60000/60000 [==============================] - 5s 80us/sample - loss: 0.0744 - accuracy: 0.9720\n",
            "Epoch 72/100\n",
            "60000/60000 [==============================] - 5s 78us/sample - loss: 0.0721 - accuracy: 0.9723\n",
            "Epoch 73/100\n",
            "60000/60000 [==============================] - 5s 81us/sample - loss: 0.0714 - accuracy: 0.9729\n",
            "Epoch 74/100\n",
            "60000/60000 [==============================] - 5s 81us/sample - loss: 0.0741 - accuracy: 0.9725\n",
            "Epoch 75/100\n",
            "60000/60000 [==============================] - 5s 80us/sample - loss: 0.0700 - accuracy: 0.9735\n",
            "Epoch 76/100\n",
            "60000/60000 [==============================] - 5s 81us/sample - loss: 0.0694 - accuracy: 0.9742\n",
            "Epoch 77/100\n",
            "60000/60000 [==============================] - 5s 81us/sample - loss: 0.0716 - accuracy: 0.9734\n",
            "Epoch 78/100\n",
            "60000/60000 [==============================] - 5s 77us/sample - loss: 0.0710 - accuracy: 0.9731\n",
            "Epoch 79/100\n",
            "60000/60000 [==============================] - 5s 81us/sample - loss: 0.0643 - accuracy: 0.9759\n",
            "Epoch 80/100\n",
            "60000/60000 [==============================] - 5s 81us/sample - loss: 0.0691 - accuracy: 0.9739\n",
            "Epoch 81/100\n",
            "60000/60000 [==============================] - 5s 79us/sample - loss: 0.0659 - accuracy: 0.9752\n",
            "Epoch 82/100\n",
            "60000/60000 [==============================] - 5s 81us/sample - loss: 0.0684 - accuracy: 0.9747\n",
            "Epoch 83/100\n",
            "60000/60000 [==============================] - 5s 80us/sample - loss: 0.0650 - accuracy: 0.9754\n",
            "Epoch 84/100\n",
            "60000/60000 [==============================] - 5s 79us/sample - loss: 0.0636 - accuracy: 0.9767\n",
            "Epoch 85/100\n",
            "60000/60000 [==============================] - 5s 79us/sample - loss: 0.0648 - accuracy: 0.9755\n",
            "Epoch 86/100\n",
            "60000/60000 [==============================] - 5s 80us/sample - loss: 0.0610 - accuracy: 0.9773\n",
            "Epoch 87/100\n",
            "60000/60000 [==============================] - 5s 81us/sample - loss: 0.0611 - accuracy: 0.9769\n",
            "Epoch 88/100\n",
            "60000/60000 [==============================] - 5s 80us/sample - loss: 0.0625 - accuracy: 0.9768\n",
            "Epoch 89/100\n",
            "60000/60000 [==============================] - 5s 80us/sample - loss: 0.0593 - accuracy: 0.9780\n",
            "Epoch 90/100\n",
            "60000/60000 [==============================] - 5s 80us/sample - loss: 0.0604 - accuracy: 0.9771\n",
            "Epoch 91/100\n",
            "60000/60000 [==============================] - 5s 80us/sample - loss: 0.0619 - accuracy: 0.9767\n",
            "Epoch 92/100\n",
            "60000/60000 [==============================] - 5s 77us/sample - loss: 0.0566 - accuracy: 0.9789\n",
            "Epoch 93/100\n",
            "60000/60000 [==============================] - 5s 80us/sample - loss: 0.0584 - accuracy: 0.9787\n",
            "Epoch 94/100\n",
            "60000/60000 [==============================] - 5s 78us/sample - loss: 0.0584 - accuracy: 0.9785\n",
            "Epoch 95/100\n",
            "60000/60000 [==============================] - 5s 80us/sample - loss: 0.0580 - accuracy: 0.9788\n",
            "Epoch 96/100\n",
            "60000/60000 [==============================] - 5s 81us/sample - loss: 0.0557 - accuracy: 0.9794\n",
            "Epoch 97/100\n",
            "60000/60000 [==============================] - 5s 78us/sample - loss: 0.0560 - accuracy: 0.9785\n",
            "Epoch 98/100\n",
            "60000/60000 [==============================] - 5s 78us/sample - loss: 0.0554 - accuracy: 0.9794\n",
            "Epoch 99/100\n",
            "60000/60000 [==============================] - 5s 79us/sample - loss: 0.0511 - accuracy: 0.9809\n",
            "Epoch 100/100\n",
            "60000/60000 [==============================] - 5s 79us/sample - loss: 0.0547 - accuracy: 0.9799\n"
          ],
          "name": "stdout"
        },
        {
          "output_type": "execute_result",
          "data": {
            "text/plain": [
              "<tensorflow.python.keras.callbacks.History at 0x7f4434ff3f60>"
            ]
          },
          "metadata": {
            "tags": []
          },
          "execution_count": 11
        }
      ]
    },
    {
      "cell_type": "markdown",
      "metadata": {
        "id": "TFjf-KYvygA_",
        "colab_type": "text"
      },
      "source": [
        "### 5. Test Your Model"
      ]
    },
    {
      "cell_type": "code",
      "metadata": {
        "id": "k08X4tffvbkW",
        "colab_type": "code",
        "outputId": "a7189fd7-271c-45f5-aca3-650be974300f",
        "colab": {
          "base_uri": "https://localhost:8080/",
          "height": 68
        }
      },
      "source": [
        "test_loss, test_acc = model.evaluate(test_images,  test_labels) # performance on test dataset\n",
        "\n",
        "print('\\nTest accuracy:', test_acc)"
      ],
      "execution_count": 0,
      "outputs": [
        {
          "output_type": "stream",
          "text": [
            "10000/10000 [==============================] - 1s 53us/sample - loss: 0.7580 - accuracy: 0.8869\n",
            "\n",
            "Test accuracy: 0.8869\n"
          ],
          "name": "stdout"
        }
      ]
    },
    {
      "cell_type": "code",
      "metadata": {
        "id": "siVhyAoAvegc",
        "colab_type": "code",
        "colab": {}
      },
      "source": [
        "test_model = tf.keras.Sequential([model,\n",
        "                                         tf.keras.layers.Softmax()]) # logits -> probabilities"
      ],
      "execution_count": 0,
      "outputs": []
    },
    {
      "cell_type": "code",
      "metadata": {
        "id": "ykutq7Anv9IZ",
        "colab_type": "code",
        "colab": {}
      },
      "source": [
        "predictions = test_model.predict(test_images)"
      ],
      "execution_count": 0,
      "outputs": []
    },
    {
      "cell_type": "code",
      "metadata": {
        "id": "AHiO-Ru4wBcP",
        "colab_type": "code",
        "outputId": "0d530e94-2ec7-4d58-ec0f-ab83820ab23a",
        "colab": {
          "base_uri": "https://localhost:8080/",
          "height": 68
        }
      },
      "source": [
        "predictions[0] # predict label for each image. let's check 1st prediction"
      ],
      "execution_count": 0,
      "outputs": [
        {
          "output_type": "execute_result",
          "data": {
            "text/plain": [
              "array([1.4438340e-30, 2.8543323e-26, 0.0000000e+00, 0.0000000e+00,\n",
              "       0.0000000e+00, 1.6846485e-15, 5.8606195e-34, 4.6485264e-12,\n",
              "       1.3335510e-31, 1.0000000e+00], dtype=float32)"
            ]
          },
          "metadata": {
            "tags": []
          },
          "execution_count": 15
        }
      ]
    },
    {
      "cell_type": "code",
      "metadata": {
        "id": "bDFKvG62wJi-",
        "colab_type": "code",
        "outputId": "1da1202b-76ae-48c9-d15e-30beb98ed39a",
        "colab": {
          "base_uri": "https://localhost:8080/",
          "height": 34
        }
      },
      "source": [
        "np.argmax(predictions[0]) # highest confidence value between 0 - 9"
      ],
      "execution_count": 0,
      "outputs": [
        {
          "output_type": "execute_result",
          "data": {
            "text/plain": [
              "9"
            ]
          },
          "metadata": {
            "tags": []
          },
          "execution_count": 16
        }
      ]
    },
    {
      "cell_type": "markdown",
      "metadata": {
        "id": "uJucEq2aep5Y",
        "colab_type": "text"
      },
      "source": [
        "```python\n",
        "class_names = ['T-shirt/top', 'Trouser', 'Pullover', 'Dress', 'Coat',\n",
        "               'Sandal', 'Shirt', 'Sneaker', 'Bag', 'Ankle boot'] # Set our labels\n",
        "```"
      ]
    },
    {
      "cell_type": "code",
      "metadata": {
        "id": "OlljmZhcwcUT",
        "colab_type": "code",
        "outputId": "7ef9ba9b-a362-42a9-eb73-c6514cd9db3f",
        "colab": {
          "base_uri": "https://localhost:8080/",
          "height": 34
        }
      },
      "source": [
        "np.argmax(predictions[0]) # class name: ankle boot"
      ],
      "execution_count": 0,
      "outputs": [
        {
          "output_type": "execute_result",
          "data": {
            "text/plain": [
              "9"
            ]
          },
          "metadata": {
            "tags": []
          },
          "execution_count": 17
        }
      ]
    },
    {
      "cell_type": "code",
      "metadata": {
        "id": "LAQNVj45wd-0",
        "colab_type": "code",
        "outputId": "702828b6-b488-49ba-fe13-497eebe9fa58",
        "colab": {
          "base_uri": "https://localhost:8080/",
          "height": 34
        }
      },
      "source": [
        "test_labels[0] # examine test label; correct prediction"
      ],
      "execution_count": 0,
      "outputs": [
        {
          "output_type": "execute_result",
          "data": {
            "text/plain": [
              "9"
            ]
          },
          "metadata": {
            "tags": []
          },
          "execution_count": 18
        }
      ]
    },
    {
      "cell_type": "code",
      "metadata": {
        "id": "Xo7zA7ALwf8I",
        "colab_type": "code",
        "colab": {}
      },
      "source": [
        "def plot_image(i, predictions_array, true_label, img): # helper functions\n",
        "  predictions_array, true_label, img = predictions_array, true_label[i], img[i]\n",
        "  plt.grid(False)\n",
        "  plt.xticks([])\n",
        "  plt.yticks([])\n",
        "\n",
        "  plt.imshow(img, cmap=plt.cm.binary)\n",
        "\n",
        "  predicted_label = np.argmax(predictions_array)\n",
        "  if predicted_label == true_label:\n",
        "    color = 'blue'\n",
        "  else:\n",
        "    color = 'red'\n",
        "\n",
        "  plt.xlabel(\"{} {:2.0f}% ({})\".format(class_names[predicted_label],\n",
        "                                100*np.max(predictions_array),\n",
        "                                class_names[true_label]),\n",
        "                                color=color)\n",
        "\n",
        "def plot_value_array(i, predictions_array, true_label):\n",
        "  predictions_array, true_label = predictions_array, true_label[i]\n",
        "  plt.grid(False)\n",
        "  plt.xticks(range(10))\n",
        "  plt.yticks([])\n",
        "  thisplot = plt.bar(range(10), predictions_array, color=\"#777777\")\n",
        "  plt.ylim([0, 1])\n",
        "  predicted_label = np.argmax(predictions_array)\n",
        "\n",
        "  thisplot[predicted_label].set_color('red')\n",
        "  thisplot[true_label].set_color('blue')"
      ],
      "execution_count": 0,
      "outputs": []
    },
    {
      "cell_type": "code",
      "metadata": {
        "id": "8-GAjWN4whXM",
        "colab_type": "code",
        "outputId": "207ef95e-c2a1-4caa-c983-bdba8af7055b",
        "colab": {
          "base_uri": "https://localhost:8080/",
          "height": 211
        }
      },
      "source": [
        "i = 0 # view predictions[0]\n",
        "plt.figure(figsize=(6,3))\n",
        "plt.subplot(1,2,1)\n",
        "plot_image(i, predictions[i], test_labels, test_images)\n",
        "plt.subplot(1,2,2)\n",
        "plot_value_array(i, predictions[i],  test_labels)\n",
        "plt.show()"
      ],
      "execution_count": 0,
      "outputs": [
        {
          "output_type": "display_data",
          "data": {
            "image/png": "[encoded data removed]",
            "text/plain": [
              "<Figure size 432x216 with 2 Axes>"
            ]
          },
          "metadata": {
            "tags": []
          }
        }
      ]
    },
    {
      "cell_type": "code",
      "metadata": {
        "id": "9ZHc5n1KwjSx",
        "colab_type": "code",
        "outputId": "eb6cf51f-8d7c-4ecd-a965-f1cae5d84169",
        "colab": {
          "base_uri": "https://localhost:8080/",
          "height": 211
        }
      },
      "source": [
        "i = 12 # predictions[12]\n",
        "plt.figure(figsize=(6,3))\n",
        "plt.subplot(1,2,1)\n",
        "plot_image(i, predictions[i], test_labels, test_images)\n",
        "plt.subplot(1,2,2)\n",
        "plot_value_array(i, predictions[i],  test_labels)\n",
        "plt.show()"
      ],
      "execution_count": 0,
      "outputs": [
        {
          "output_type": "display_data",
          "data": {
            "image/png": "[encoded data removed]",
            "text/plain": [
              "<Figure size 432x216 with 2 Axes>"
            ]
          },
          "metadata": {
            "tags": []
          }
        }
      ]
    },
    {
      "cell_type": "code",
      "metadata": {
        "id": "7vkYB1B6wxaq",
        "colab_type": "code",
        "outputId": "1e071656-8ca1-4ad9-81fe-a407740cee18",
        "colab": {
          "base_uri": "https://localhost:8080/",
          "height": 729
        }
      },
      "source": [
        "num_rows = 5 # view every prediction\n",
        "num_cols = 3\n",
        "num_images = num_rows*num_cols\n",
        "plt.figure(figsize=(2*2*num_cols, 2*num_rows))\n",
        "for i in range(num_images):\n",
        "  plt.subplot(num_rows, 2*num_cols, 2*i+1)\n",
        "  plot_image(i, predictions[i], test_labels, test_images)\n",
        "  plt.subplot(num_rows, 2*num_cols, 2*i+2)\n",
        "  plot_value_array(i, predictions[i], test_labels)\n",
        "plt.tight_layout()\n",
        "plt.show()"
      ],
      "execution_count": 0,
      "outputs": [
        {
          "output_type": "display_data",
          "data": {
            "image/png": "[encoded data removed]",
            "text/plain": [
              "<Figure size 864x720 with 30 Axes>"
            ]
          },
          "metadata": {
            "tags": []
          }
        }
      ]
    },
    {
      "cell_type": "markdown",
      "metadata": {
        "id": "j2KlSAkwx2DX",
        "colab_type": "text"
      },
      "source": [
        "# Congrats on Solving Your First Project in ML!\n",
        "---\n",
        "---\n",
        "---\n",
        "---\n",
        "---\n",
        "---\n",
        "---\n",
        "---\n",
        "---\n",
        "---\n",
        "---\n",
        "---\n",
        "---\n",
        "---\n",
        "---\n",
        "---\n",
        "---\n",
        "---\n",
        "---\n",
        "###### Credits: https://www.tensorflow.org/tutorials/keras/classification"
      ]
    }
  ]
}